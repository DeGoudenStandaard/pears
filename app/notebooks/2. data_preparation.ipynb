{
 "cells": [
  {
   "attachments": {},
   "cell_type": "markdown",
   "metadata": {},
   "source": [
    "### Import dependencies"
   ]
  },
  {
   "cell_type": "code",
   "execution_count": null,
   "metadata": {},
   "outputs": [],
   "source": [
    "# %pip install --upgrade pip --quiet && pip install -r ../../requirements.txt --quiet"
   ]
  },
  {
   "cell_type": "code",
   "execution_count": null,
   "metadata": {},
   "outputs": [],
   "source": [
    "import os\n",
    "import cv2\n",
    "import numpy as np\n",
    "import pandas as pd\n",
    "import tensorflow as tf\n",
    "from dotenv import load_dotenv\n",
    "import matplotlib.pyplot as plt\n",
    "from IPython.display import clear_output\n",
    "from tensorflow.keras import Sequential\n",
    "from tensorflow.keras.layers import Dense, Flatten, Conv2D, MaxPooling2D, Dropout, BatchNormalization"
   ]
  },
  {
   "attachments": {},
   "cell_type": "markdown",
   "metadata": {},
   "source": [
    "### Load CSV data"
   ]
  },
  {
   "cell_type": "code",
   "execution_count": null,
   "metadata": {},
   "outputs": [],
   "source": [
    "load_dotenv()\n",
    "\n",
    "DATA_DIR = os.getenv('DATA_DIR')"
   ]
  },
  {
   "cell_type": "code",
   "execution_count": null,
   "metadata": {},
   "outputs": [],
   "source": [
    "def load_train_df() -> None:\n",
    "    return pd.read_csv(f\"{DATA_DIR}/raw/train.csv\", dtype={\n",
    "        \"img\": int, # Image ID\n",
    "        \"x\": int, # X1 coordinate of the top-left corner of the bounding box\n",
    "        \"y\": int, # Y1 coordinate of the top-left corner of the bounding box\n",
    "        \"w\": int, # X2 of the bounding box\n",
    "        \"h\": int, # Y2 of the bounding box\n",
    "        \"rot\": int, # Whether the image shows a rotten pear (1) or not (0)\n",
    "    }, index_col=0).rename(columns={\n",
    "        \"img\": \"image_id\",\n",
    "        \"x\": \"x1\",\n",
    "        \"y\": \"y1\",\n",
    "        \"w\": \"x2\",\n",
    "        \"h\": \"y2\",\n",
    "        \"rot\": \"is_rotten\",\n",
    "    })"
   ]
  },
  {
   "cell_type": "code",
   "execution_count": null,
   "metadata": {},
   "outputs": [],
   "source": [
    "def load_test_df() -> None:\n",
    "    return pd.read_csv(f\"{DATA_DIR}/raw/test.csv\", dtype={\n",
    "        \"img\": int, # Image ID\n",
    "        \"x\": int, # X1 coordinate of the top-left corner of the bounding box\n",
    "        \"y\": int, # Y1 coordinate of the top-left corner of the bounding box\n",
    "        \"w\": int, # X2 of the bounding box\n",
    "        \"h\": int, # Y2 of the bounding box\n",
    "    }, index_col=0).rename(columns={\n",
    "        \"img\": \"image_id\",\n",
    "        \"x\": \"x1\",\n",
    "        \"y\": \"y1\",\n",
    "        \"w\": \"x2\",\n",
    "        \"h\": \"y2\",\n",
    "    })"
   ]
  },
  {
   "cell_type": "code",
   "execution_count": null,
   "metadata": {},
   "outputs": [],
   "source": [
    "train_df = load_train_df()\n",
    "test_df = load_test_df()"
   ]
  },
  {
   "attachments": {},
   "cell_type": "markdown",
   "metadata": {},
   "source": [
    "### Add image dimensions"
   ]
  },
  {
   "cell_type": "code",
   "execution_count": null,
   "metadata": {},
   "outputs": [],
   "source": [
    "def add_dimensions(df: pd.DataFrame) -> None:\n",
    "    df[\"width\"] = df[\"x2\"] - df[\"x1\"]\n",
    "    df[\"height\"] = df[\"y2\"] - df[\"y1\"]\n",
    "    df[\"area\"] = df[\"width\"] * df[\"height\"]"
   ]
  },
  {
   "cell_type": "code",
   "execution_count": null,
   "metadata": {},
   "outputs": [],
   "source": [
    "add_dimensions(train_df)\n",
    "add_dimensions(test_df)"
   ]
  },
  {
   "attachments": {},
   "cell_type": "markdown",
   "metadata": {},
   "source": [
    "### Remove outliers"
   ]
  },
  {
   "cell_type": "code",
   "execution_count": null,
   "metadata": {},
   "outputs": [],
   "source": [
    "def find_outliers(df: pd.DataFrame, column: str) -> pd.DataFrame:\n",
    "    # Calculate the interquartile range (IQR) for the column\n",
    "    Q1 = df[column].quantile(0.25)\n",
    "    Q3 = df[column].quantile(0.75)\n",
    "    IQR = Q3 - Q1\n",
    "\n",
    "    # Create and return a mask for outliers\n",
    "    return (df[column] >= Q1 - 1.5 * IQR) & (df[column] <= Q3 + 1.5 * IQR)"
   ]
  },
  {
   "cell_type": "code",
   "execution_count": null,
   "metadata": {},
   "outputs": [],
   "source": [
    "def remove_outliers(df: pd.DataFrame) -> pd.DataFrame:\n",
    "    # Find the outliers for width, height, and area\n",
    "    width_outliers = find_outliers(df, \"width\")\n",
    "    height_outliers = find_outliers(df, \"height\")\n",
    "    area_outliers = find_outliers(df, \"area\")\n",
    "\n",
    "    # Combine the masks into one\n",
    "    combined_mask = width_outliers & height_outliers & area_outliers\n",
    "\n",
    "    # Return the filtered DataFrame\n",
    "    return df[combined_mask]"
   ]
  },
  {
   "cell_type": "code",
   "execution_count": null,
   "metadata": {},
   "outputs": [],
   "source": [
    "filtered_train_df = remove_outliers(train_df)\n",
    "\n",
    "# Print the shapes of the original and filtered train_df\n",
    "print(f\"Original train_df shape: {train_df.shape}\")\n",
    "print(f\"Filtered train_df shape: {filtered_train_df.shape}\")"
   ]
  },
  {
   "attachments": {},
   "cell_type": "markdown",
   "metadata": {},
   "source": [
    "### Find the optimal dimensions for resizing without losing pixels"
   ]
  },
  {
   "cell_type": "code",
   "execution_count": null,
   "metadata": {},
   "outputs": [],
   "source": [
    "# Find the largest image dimensions of the train set\n",
    "max_width = filtered_train_df[\"width\"].max()\n",
    "max_height = filtered_train_df[\"height\"].max()\n",
    "max_dimension = max(max_width, max_height)"
   ]
  },
  {
   "attachments": {},
   "cell_type": "markdown",
   "metadata": {},
   "source": [
    "### Load & process images"
   ]
  },
  {
   "cell_type": "code",
   "execution_count": null,
   "metadata": {},
   "outputs": [],
   "source": [
    "def safe_create_directory(directory: str) -> None:\n",
    "    try:\n",
    "        os.makedirs(directory, exist_ok=True)\n",
    "    except OSError as e:\n",
    "        print(f\"Error creating directory {directory}: {e}\")"
   ]
  },
  {
   "cell_type": "code",
   "execution_count": null,
   "metadata": {},
   "outputs": [],
   "source": [
    "def is_directory_empty(directory: str) -> bool:\n",
    "    safe_create_directory(directory)\n",
    "\n",
    "    return len(os.listdir(directory)) == 0"
   ]
  },
  {
   "cell_type": "code",
   "execution_count": null,
   "metadata": {},
   "outputs": [],
   "source": [
    "def load_image(image_path: str) -> np.ndarray:\n",
    "    return cv2.imread(image_path)"
   ]
  },
  {
   "cell_type": "code",
   "execution_count": null,
   "metadata": {},
   "outputs": [],
   "source": [
    "def get_raw_image_path(image_id: int) -> str:\n",
    "    return f\"{DATA_DIR}/raw/images/{image_id:08d}.png\""
   ]
  },
  {
   "cell_type": "code",
   "execution_count": null,
   "metadata": {},
   "outputs": [],
   "source": [
    "def load_raw_image(image_id: int) -> np.ndarray:\n",
    "    return load_image(get_raw_image_path(image_id))"
   ]
  },
  {
   "cell_type": "code",
   "execution_count": null,
   "metadata": {},
   "outputs": [],
   "source": [
    "def get_processed_image_path(row: pd.Series) -> str:\n",
    "    subdirectory = \"test\"\n",
    "    rotten_subdirectory = \"\"\n",
    "    if \"is_rotten\" in row:\n",
    "        subdirectory = \"train\"\n",
    "        rotten_subdirectory = \"rotten/\" if row[\"is_rotten\"] == 1 else \"not_rotten/\"\n",
    "\n",
    "    return f\"{DATA_DIR}/processed/images/{subdirectory}/{rotten_subdirectory}{row.name}.png\""
   ]
  },
  {
   "cell_type": "code",
   "execution_count": null,
   "metadata": {},
   "outputs": [],
   "source": [
    "def crop_image(image: np.ndarray, row: pd.Series) -> np.ndarray:\n",
    "    left_x, top_y, right_x, bottom_y = row[[\"x1\", \"y1\", \"x2\", \"y2\"]]\n",
    "    return image[top_y:bottom_y, left_x:right_x]"
   ]
  },
  {
   "cell_type": "code",
   "execution_count": null,
   "metadata": {},
   "outputs": [],
   "source": [
    "def resize_image(image: np.ndarray) -> np.ndarray:\n",
    "    current_height, current_width, _ = image.shape\n",
    "    if current_width > current_height:\n",
    "        new_width = max_dimension\n",
    "        new_height = int(current_height * (max_dimension / current_width))\n",
    "    else:\n",
    "        new_height = max_dimension\n",
    "        new_width = int(current_width * (max_dimension / current_height))\n",
    "    resized_image = cv2.resize(image, (new_width, new_height))\n",
    "\n",
    "    return resized_image"
   ]
  },
  {
   "cell_type": "code",
   "execution_count": null,
   "metadata": {},
   "outputs": [],
   "source": [
    "def pad_image(image: np.ndarray) -> np.ndarray:\n",
    "    PADDING_COLOR = [255, 0, 255]\n",
    "    width_diff = max_dimension - image.shape[1]\n",
    "    height_diff = max_dimension - image.shape[0]\n",
    "    top = bottom = height_diff // 2\n",
    "    left = right = width_diff // 2\n",
    "\n",
    "    return cv2.copyMakeBorder(image, top, bottom, left, right, cv2.BORDER_CONSTANT, None, value=PADDING_COLOR)"
   ]
  },
  {
   "cell_type": "code",
   "execution_count": null,
   "metadata": {},
   "outputs": [],
   "source": [
    "def extract_pear(image: np.ndarray, row: pd.Series) -> np.ndarray:\n",
    "    cropped_image = crop_image(image, row)\n",
    "    resized_image = resize_image(cropped_image)\n",
    "    padded_image = pad_image(resized_image)\n",
    "\n",
    "    return padded_image"
   ]
  },
  {
   "cell_type": "code",
   "execution_count": null,
   "metadata": {},
   "outputs": [],
   "source": [
    "def extract_pears_from_image(image_id: int, df: pd.DataFrame) -> None:\n",
    "    image = load_raw_image(image_id)\n",
    "    pears_in_image = df[df[\"image_id\"] == image_id]\n",
    "\n",
    "    # Crop the image for each row\n",
    "    for _, row in pears_in_image.iterrows():\n",
    "        # Get the current pear from the loaded image\n",
    "        processed_image = extract_pear(image, row)\n",
    "        # Get the path to save the processed image\n",
    "        processed_path = get_processed_image_path(row)\n",
    "        # Save the processed image\n",
    "        cv2.imwrite(processed_path, processed_image)"
   ]
  },
  {
   "cell_type": "code",
   "execution_count": null,
   "metadata": {},
   "outputs": [],
   "source": [
    "def create_processed_directories() -> None:\n",
    "    safe_create_directory(f\"{DATA_DIR}/processed/images/train/rotten\")\n",
    "    safe_create_directory(f\"{DATA_DIR}/processed/images/train/not_rotten\")\n",
    "    safe_create_directory(f\"{DATA_DIR}/processed/images/test\")"
   ]
  },
  {
   "cell_type": "code",
   "execution_count": null,
   "metadata": {},
   "outputs": [],
   "source": [
    "def process_all_images(df: pd.DataFrame) -> None:\n",
    "    subdirectory = \"train\" if \"is_rotten\" in df else \"test\"\n",
    "    full_directory = f\"{DATA_DIR}/processed/images/{subdirectory}\"\n",
    "\n",
    "    if not is_directory_empty(full_directory):\n",
    "        print(f\"Images have already been processed in {full_directory}\")\n",
    "        return\n",
    "    \n",
    "    create_processed_directories()\n",
    "    unique_image_ids = df[\"image_id\"].unique()\n",
    "\n",
    "    for image_id in unique_image_ids:\n",
    "        extract_pears_from_image(image_id, df)"
   ]
  },
  {
   "cell_type": "code",
   "execution_count": null,
   "metadata": {},
   "outputs": [],
   "source": [
    "process_all_images(filtered_train_df)\n",
    "process_all_images(test_df)"
   ]
  }
 ],
 "metadata": {
  "kernelspec": {
   "display_name": "venv",
   "language": "python",
   "name": "python3"
  },
  "language_info": {
   "codemirror_mode": {
    "name": "ipython",
    "version": 3
   },
   "file_extension": ".py",
   "mimetype": "text/x-python",
   "name": "python",
   "nbconvert_exporter": "python",
   "pygments_lexer": "ipython3",
   "version": "3.10.10"
  },
  "orig_nbformat": 4
 },
 "nbformat": 4,
 "nbformat_minor": 2
}

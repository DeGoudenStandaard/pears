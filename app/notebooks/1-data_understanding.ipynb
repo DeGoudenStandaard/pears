{
 "cells": [
  {
   "cell_type": "markdown",
   "metadata": {},
   "source": [
    "# Important notice\n",
    "- Run this notebook in venv"
   ]
  },
  {
   "attachments": {},
   "cell_type": "markdown",
   "metadata": {},
   "source": [
    "### Import dependencies"
   ]
  },
  {
   "cell_type": "code",
   "execution_count": null,
   "metadata": {},
   "outputs": [],
   "source": [
    "# %pip install --upgrade pip --quiet && pip install -r ../../requirements.txt --quiet"
   ]
  },
  {
   "cell_type": "code",
   "execution_count": null,
   "metadata": {},
   "outputs": [],
   "source": [
    "import os\n",
    "import pandas as pd\n",
    "import plotly.graph_objs as go\n",
    "from dotenv import load_dotenv\n",
    "from plotly.subplots import make_subplots"
   ]
  },
  {
   "cell_type": "code",
   "execution_count": null,
   "metadata": {},
   "outputs": [],
   "source": [
    "load_dotenv()\n",
    "\n",
    "DATA_DIR = os.getenv(\"DATA_DIR\")"
   ]
  },
  {
   "attachments": {},
   "cell_type": "markdown",
   "metadata": {},
   "source": [
    "### Load data"
   ]
  },
  {
   "cell_type": "code",
   "execution_count": null,
   "metadata": {},
   "outputs": [],
   "source": [
    "def load_train_df() -> pd.DataFrame:\n",
    "    return pd.read_csv(f\"{DATA_DIR}/raw/train.csv\", dtype={\n",
    "        \"img\": int, # Image ID\n",
    "        \"x\": int, # X coordinate of the top-left corner of the bounding box\n",
    "        \"y\": int, # Y coordinate of the top-left corner of the bounding box\n",
    "        \"w\": int, # Width of the bounding box\n",
    "        \"h\": int, # Height of the bounding box\n",
    "        \"rot\": int, # Whether the image shows a rotten pear (1) or not (0)\n",
    "    }, index_col=0).rename(columns={\n",
    "        \"img\": \"image_id\",\n",
    "        \"w\": \"x2\",\n",
    "        \"h\": \"y2\",\n",
    "        \"rot\": \"is_rotten\",\n",
    "    })\n",
    "\n",
    "def load_test_df() -> pd.DataFrame:\n",
    "    return pd.read_csv(f\"{DATA_DIR}/raw/test.csv\", dtype={\n",
    "        \"img\": int, # Image ID\n",
    "        \"x\": int, # X coordinate of the top-left corner of the bounding box\n",
    "        \"y\": int, # Y coordinate of the top-left corner of the bounding box\n",
    "        \"w\": int, # Width of the bounding box\n",
    "        \"h\": int, # Height of the bounding box\n",
    "    }, index_col=0).rename(columns={\n",
    "        \"img\": \"image_id\",\n",
    "        \"w\": \"x2\",\n",
    "        \"h\": \"y2\",\n",
    "    })"
   ]
  },
  {
   "cell_type": "code",
   "execution_count": null,
   "metadata": {},
   "outputs": [],
   "source": [
    "train_df = load_train_df()\n",
    "test_df = load_test_df()"
   ]
  },
  {
   "attachments": {},
   "cell_type": "markdown",
   "metadata": {},
   "source": [
    "### Data understanding"
   ]
  },
  {
   "cell_type": "code",
   "execution_count": null,
   "metadata": {},
   "outputs": [],
   "source": [
    "def add_dimensions(df: pd.DataFrame) -> None:\n",
    "    df[\"width\"] = df[\"x2\"] - df[\"x\"]\n",
    "    df[\"height\"] = df[\"y2\"] - df[\"y\"]\n",
    "    df[\"area\"] = df[\"width\"] * df[\"height\"]"
   ]
  },
  {
   "cell_type": "code",
   "execution_count": null,
   "metadata": {},
   "outputs": [],
   "source": [
    "add_dimensions(train_df)\n",
    "add_dimensions(test_df)"
   ]
  },
  {
   "cell_type": "code",
   "execution_count": null,
   "metadata": {},
   "outputs": [],
   "source": [
    "# Create subplots with two rows and two columns\n",
    "fig = make_subplots(rows=2, cols=2, subplot_titles=(\"Training Set (Width)\", \"Training Set (Height)\", \"Test Set (Width)\", \"Test Set (Height)\"))\n",
    "\n",
    "# Add histograms for width and height for training set\n",
    "fig.add_trace(go.Histogram(x=train_df[\"width\"], name=\"Width (train)\", opacity=0.7, nbinsx=50, histnorm=\"probability\"), row=1, col=1)\n",
    "fig.add_trace(go.Histogram(x=train_df[\"height\"], name=\"Height (train)\", opacity=0.7, nbinsx=50, histnorm=\"probability\"), row=1, col=2)\n",
    "\n",
    "# Add histograms for width and height for test set\n",
    "fig.add_trace(go.Histogram(x=test_df[\"width\"], name=\"Width (test)\", opacity=0.7, nbinsx=50, histnorm=\"probability\"), row=2, col=1)\n",
    "fig.add_trace(go.Histogram(x=test_df[\"height\"], name=\"Height (test)\", opacity=0.7, nbinsx=50, histnorm=\"probability\"), row=2, col=2)\n",
    "\n",
    "# Update xaxis and yaxis titles\n",
    "fig.update_xaxes(title_text=\"Width\", row=1, col=1)\n",
    "fig.update_xaxes(title_text=\"Height\", row=1, col=2)\n",
    "fig.update_xaxes(title_text=\"Width\", row=2, col=1)\n",
    "fig.update_xaxes(title_text=\"Height\", row=2, col=2)\n",
    "fig.update_yaxes(title_text=\"Probability\", row=1, col=1)\n",
    "fig.update_yaxes(title_text=\"Probability\", row=1, col=2)\n",
    "fig.update_yaxes(title_text=\"Probability\", row=2, col=1)\n",
    "fig.update_yaxes(title_text=\"Probability\", row=2, col=2)\n",
    "\n",
    "# Update layout\n",
    "fig.update_layout(title=\"Distribution of the width and height of the bounding boxes in the training and test sets\", showlegend=False)\n",
    "\n",
    "# Show the figure\n",
    "fig.show()"
   ]
  },
  {
   "cell_type": "code",
   "execution_count": null,
   "metadata": {},
   "outputs": [],
   "source": [
    "# Create subplots with two rows and two columns\n",
    "fig = make_subplots(rows=2, cols=2, subplot_titles=(\"Non-rotten Pears (Width)\", \"Non-rotten Pears (Height)\", \"Rotten Pears (Width)\", \"Rotten Pears (Height)\"))\n",
    "\n",
    "# Add histograms for width and height for non-rotten pears\n",
    "fig.add_trace(go.Histogram(x=train_df[train_df[\"is_rotten\"] == 0][\"width\"], name=\"Width (non-rotten)\", opacity=0.7, nbinsx=50, histnorm=\"probability\"), row=1, col=1)\n",
    "fig.add_trace(go.Histogram(x=train_df[train_df[\"is_rotten\"] == 0][\"height\"], name=\"Height (non-rotten)\", opacity=0.7, nbinsx=50, histnorm=\"probability\"), row=1, col=2)\n",
    "\n",
    "# Add histograms for width and height for rotten pears\n",
    "fig.add_trace(go.Histogram(x=train_df[train_df[\"is_rotten\"] == 1][\"width\"], name=\"Width (rotten)\", opacity=0.7, nbinsx=50, histnorm=\"probability\"), row=2, col=1)\n",
    "fig.add_trace(go.Histogram(x=train_df[train_df[\"is_rotten\"] == 1][\"height\"], name=\"Height (rotten)\", opacity=0.7, nbinsx=50, histnorm=\"probability\"), row=2, col=2)\n",
    "\n",
    "# Update xaxis and yaxis titles\n",
    "fig.update_xaxes(title_text=\"Width\", row=1, col=1)\n",
    "fig.update_xaxes(title_text=\"Height\", row=1, col=2)\n",
    "fig.update_xaxes(title_text=\"Width\", row=2, col=1)\n",
    "fig.update_xaxes(title_text=\"Height\", row=2, col=2)\n",
    "fig.update_yaxes(title_text=\"Probability\", row=1, col=1)\n",
    "fig.update_yaxes(title_text=\"Probability\", row=1, col=2)\n",
    "fig.update_yaxes(title_text=\"Probability\", row=2, col=1)\n",
    "fig.update_yaxes(title_text=\"Probability\", row=2, col=2)\n",
    "\n",
    "# Update layout\n",
    "fig.update_layout(title=\"Distribution of the width and height of the bounding boxes in the non-rotten and rotten pears in the training set\", showlegend=False)\n",
    "\n",
    "# Show the figure\n",
    "fig.show()"
   ]
  },
  {
   "cell_type": "code",
   "execution_count": null,
   "metadata": {},
   "outputs": [],
   "source": [
    "# Create subplots with two rows and two columns\n",
    "fig = make_subplots(rows=1, cols=2, subplot_titles=(\"Non-rotten Pears\", \"Rotten Pears\"))\n",
    "\n",
    "# Add histograms for area for non-rotten pears\n",
    "fig.add_trace(go.Histogram(x=train_df[train_df[\"is_rotten\"] == 0][\"area\"], name=\"Area (non-rotten)\", opacity=0.7, nbinsx=50, histnorm=\"probability\"), row=1, col=1)\n",
    "\n",
    "# Add histograms for area for rotten pears\n",
    "fig.add_trace(go.Histogram(x=train_df[train_df[\"is_rotten\"] == 1][\"area\"], name=\"Area (rotten)\", opacity=0.7, nbinsx=50, histnorm=\"probability\"), row=1, col=2)\n",
    "\n",
    "# Set x-axis range and y-axis range to the max values\n",
    "max_area = max(train_df[\"area\"])\n",
    "max_prob = 0.16\n",
    "\n",
    "fig.update_xaxes(range=[0, max_area], row=1, col=1)\n",
    "fig.update_xaxes(range=[0, max_area], row=1, col=2)\n",
    "fig.update_yaxes(range=[0, max_prob], row=1, col=1)\n",
    "fig.update_yaxes(range=[0, max_prob], row=1, col=2)\n",
    "\n",
    "# Update xaxis and yaxis titles\n",
    "fig.update_xaxes(title_text=\"Area\", row=1, col=1)\n",
    "fig.update_xaxes(title_text=\"Area\", row=1, col=2)\n",
    "fig.update_yaxes(title_text=\"Probability\", row=1, col=1)\n",
    "fig.update_yaxes(title_text=\"Probability\", row=1, col=2)\n",
    "\n",
    "# Update layout\n",
    "fig.update_layout(title=\"Difference in area between rotten and non-rotten pears in the training set\", showlegend=True)\n",
    "\n",
    "# Show the figure\n",
    "fig.show()"
   ]
  },
  {
   "cell_type": "code",
   "execution_count": null,
   "metadata": {},
   "outputs": [],
   "source": [
    "import seaborn as sns\n",
    "import matplotlib.pyplot as plt\n",
    "\n",
    "# Calculate the correlation matrix\n",
    "corr_matrix = train_df.corr()\n",
    "\n",
    "# Plot the heatmap\n",
    "sns.heatmap(corr_matrix, annot=True, cmap=\"coolwarm\")\n",
    "\n",
    "plt.show()"
   ]
  }
 ],
 "metadata": {
  "kernelspec": {
   "display_name": "Python 3 (ipykernel)",
   "language": "python",
   "name": "python3"
  },
  "language_info": {
   "codemirror_mode": {
    "name": "ipython",
    "version": 3
   },
   "file_extension": ".py",
   "mimetype": "text/x-python",
   "name": "python",
   "nbconvert_exporter": "python",
   "pygments_lexer": "ipython3",
   "version": "3.10.10"
  },
  "orig_nbformat": 4
 },
 "nbformat": 4,
 "nbformat_minor": 2
}

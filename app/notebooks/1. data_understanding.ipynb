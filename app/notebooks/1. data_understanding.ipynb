{
 "cells": [
  {
   "attachments": {},
   "cell_type": "markdown",
   "metadata": {},
   "source": [
    "### Import dependencies"
   ]
  },
  {
   "cell_type": "code",
   "execution_count": null,
   "metadata": {
    "vscode": {
     "languageId": "python"
    }
   },
   "outputs": [],
   "source": [
    "import pandas as pd\n",
    "import plotly.graph_objs as go\n",
    "from plotly.subplots import make_subplots\n",
    "import os\n",
    "import dotenv\n",
    "from dotenv import load_dotenv"
   ]
  },
  {
   "cell_type": "code",
   "execution_count": null,
   "metadata": {},
   "outputs": [],
   "source": [
    "load_dotenv()\n",
    "DATA_DIR = os.getenv(\"DATA_DIR\")"
   ]
  },
  {
   "attachments": {},
   "cell_type": "markdown",
   "metadata": {},
   "source": [
    "### Load data"
   ]
  },
  {
   "cell_type": "code",
   "execution_count": null,
   "metadata": {
    "vscode": {
     "languageId": "python"
    }
   },
   "outputs": [],
   "source": [
    "def load_train_df() -> None:\n",
    "    return pd.read_csv(f'{DATA_DIR}/train.csv', dtype={\n",
    "        'img': int, # Image ID\n",
    "        'x': int, # X coordinate of the top-left corner of the bounding box\n",
    "        'y': int, # Y coordinate of the top-left corner of the bounding box\n",
    "        'w': int, # Width of the bounding box\n",
    "        'h': int, # Height of the bounding box\n",
    "        'rot': int, # Whether the image shows a rotten pear (1) or not (0)\n",
    "    }, index_col=0).rename(columns={\n",
    "        'img': 'image_id',\n",
    "        'w': 'x2',\n",
    "        'h': 'y2',\n",
    "        'rot': 'is_rotten',\n",
    "    })\n",
    "\n",
    "def load_test_df() -> None:\n",
    "    return pd.read_csv(f'{DATA_DIR}/test.csv', dtype={\n",
    "        'img': int, # Image ID\n",
    "        'x': int, # X coordinate of the top-left corner of the bounding box\n",
    "        'y': int, # Y coordinate of the top-left corner of the bounding box\n",
    "        'w': int, # Width of the bounding box\n",
    "        'h': int, # Height of the bounding box\n",
    "    }, index_col=0).rename(columns={\n",
    "        'img': 'image_id',\n",
    "        'w': 'x2',\n",
    "        'h': 'y2',\n",
    "    })"
   ]
  },
  {
   "cell_type": "code",
   "execution_count": null,
   "metadata": {
    "vscode": {
     "languageId": "python"
    }
   },
   "outputs": [],
   "source": [
    "train_df = load_train_df()\n",
    "test_df = load_test_df()"
   ]
  },
  {
   "attachments": {},
   "cell_type": "markdown",
   "metadata": {},
   "source": [
    "### Data understanding"
   ]
  },
  {
   "cell_type": "code",
   "execution_count": null,
   "metadata": {
    "vscode": {
     "languageId": "python"
    }
   },
   "outputs": [],
   "source": [
    "def add_dimensions(df: pd.DataFrame) -> None:\n",
    "    df['width'] = df['x2'] - df['x']\n",
    "    df['height'] = df['y2'] - df['y']"
   ]
  },
  {
   "cell_type": "code",
   "execution_count": null,
   "metadata": {
    "vscode": {
     "languageId": "python"
    }
   },
   "outputs": [],
   "source": [
    "add_dimensions(train_df)\n",
    "add_dimensions(test_df)"
   ]
  },
  {
   "cell_type": "code",
   "execution_count": null,
   "metadata": {
    "vscode": {
     "languageId": "python"
    }
   },
   "outputs": [],
   "source": [
    "# Create subplots with two rows and two columns\n",
    "fig = make_subplots(rows=2, cols=2, subplot_titles=(\"Training Set (Width)\", \"Training Set (Height)\", \"Test Set (Width)\", \"Test Set (Height)\"))\n",
    "\n",
    "# Add histograms for width and height for training set\n",
    "fig.add_trace(go.Histogram(x=train_df['width'], name='Width (train)', opacity=0.7, nbinsx=50, histnorm='probability'), row=1, col=1)\n",
    "fig.add_trace(go.Histogram(x=train_df['height'], name='Height (train)', opacity=0.7, nbinsx=50, histnorm='probability'), row=1, col=2)\n",
    "\n",
    "# Add histograms for width and height for test set\n",
    "fig.add_trace(go.Histogram(x=test_df['width'], name='Width (test)', opacity=0.7, nbinsx=50, histnorm='probability'), row=2, col=1)\n",
    "fig.add_trace(go.Histogram(x=test_df['height'], name='Height (test)', opacity=0.7, nbinsx=50, histnorm='probability'), row=2, col=2)\n",
    "\n",
    "# Update xaxis and yaxis titles\n",
    "fig.update_xaxes(title_text=\"Width\", row=1, col=1)\n",
    "fig.update_xaxes(title_text=\"Height\", row=1, col=2)\n",
    "fig.update_xaxes(title_text=\"Width\", row=2, col=1)\n",
    "fig.update_xaxes(title_text=\"Height\", row=2, col=2)\n",
    "fig.update_yaxes(title_text=\"Probability\", row=1, col=1)\n",
    "fig.update_yaxes(title_text=\"Probability\", row=1, col=2)\n",
    "fig.update_yaxes(title_text=\"Probability\", row=2, col=1)\n",
    "fig.update_yaxes(title_text=\"Probability\", row=2, col=2)\n",
    "\n",
    "# Update layout\n",
    "fig.update_layout(title='Distribution of the width and height of the bounding boxes in the training and test sets', showlegend=False)\n",
    "\n",
    "# Show the figure\n",
    "fig.show()"
   ]
  },
  {
   "cell_type": "code",
   "execution_count": null,
   "metadata": {},
   "outputs": [],
   "source": [
    "train_df"
   ]
  }
 ],
 "metadata": {
  "kernelspec": {
   "display_name": "Python 3 (ipykernel)",
   "language": "python",
   "name": "python3"
  },
  "language_info": {
   "codemirror_mode": {
    "name": "ipython",
    "version": 3
   },
   "file_extension": ".py",
   "mimetype": "text/x-python",
   "name": "python",
   "nbconvert_exporter": "python",
   "pygments_lexer": "ipython3",
   "version": "3.10.0"
  },
  "orig_nbformat": 4
 },
 "nbformat": 4,
 "nbformat_minor": 2
}

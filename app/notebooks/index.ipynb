{
 "cells": [
  {
   "attachments": {},
   "cell_type": "markdown",
   "metadata": {},
   "source": [
    "### Install dependencies"
   ]
  },
  {
   "cell_type": "code",
   "execution_count": null,
   "metadata": {},
   "outputs": [],
   "source": [
    "import os\n",
    "import cv2\n",
    "import numpy as np\n",
    "import pandas as pd\n",
    "import tensorflow as tf\n",
    "import matplotlib.pyplot as plt\n",
    "from IPython.display import clear_output"
   ]
  },
  {
   "attachments": {},
   "cell_type": "markdown",
   "metadata": {},
   "source": [
    "### GPU Testing"
   ]
  },
  {
   "cell_type": "code",
   "execution_count": null,
   "metadata": {},
   "outputs": [],
   "source": [
    "# Check if GPU is available\n",
    "is_gpu_available = tf.test.is_gpu_available()\n",
    "\n",
    "# Clear the cell output\n",
    "clear_output()\n",
    "\n",
    "# Print GPU availability\n",
    "print('GPU is available' if is_gpu_available else 'GPU is not available')"
   ]
  },
  {
   "attachments": {},
   "cell_type": "markdown",
   "metadata": {},
   "source": [
    "### Load data"
   ]
  },
  {
   "attachments": {},
   "cell_type": "markdown",
   "metadata": {},
   "source": [
    "We rename the `img` column to `image_id` for clarity. The `rot` column was renamed to `is_rotten` for the same reason."
   ]
  },
  {
   "cell_type": "code",
   "execution_count": null,
   "metadata": {},
   "outputs": [],
   "source": [
    "def load_train_df() -> None:\n",
    "    return pd.read_csv('data/train.csv', dtype={\n",
    "        'img': int, # Image ID\n",
    "        'x': int, # X coordinate of the top-left corner of the bounding box\n",
    "        'y': int, # Y coordinate of the top-left corner of the bounding box\n",
    "        'w': int, # Width of the bounding box\n",
    "        'h': int, # Height of the bounding box\n",
    "        'rot': int, # Whether the image shows a rotten pear (1) or not (0)\n",
    "    }, index_col=0).rename(columns={\n",
    "        'img': 'image_id',\n",
    "        'rot': 'is_rotten',\n",
    "    })\n",
    "\n",
    "def load_test_df() -> None:\n",
    "    return pd.read_csv('data/test.csv', dtype={\n",
    "        'img': int, # Image ID\n",
    "        'x': int, # X coordinate of the top-left corner of the bounding box\n",
    "        'y': int, # Y coordinate of the top-left corner of the bounding box\n",
    "        'w': int, # Width of the bounding box\n",
    "        'h': int, # Height of the bounding box\n",
    "    }, index_col=0).rename(columns={\n",
    "        'img': 'image_id',\n",
    "    })\n",
    "\n",
    "def safe_create_directory(directory: str) -> None:\n",
    "    \"\"\"\n",
    "    Safely creates a directory if it does not exist.\n",
    "\n",
    "    Args:\n",
    "    - directory (str): The path to the directory to create.\n",
    "\n",
    "    Returns:\n",
    "    - None\n",
    "    \"\"\"\n",
    "    try:\n",
    "        os.makedirs(directory, exist_ok=True)\n",
    "    except OSError as e:\n",
    "        print(f'Error creating directory {directory}: {e}')\n",
    "\n",
    "def get_image_path(image_id: int, directory: str) -> str:\n",
    "    \"\"\"\n",
    "    Get the path to an image given its ID and the directory it is stored in.\n",
    "\n",
    "    Args:\n",
    "    - image_id (int): The ID of the image.\n",
    "    - directory (str): The directory the image is stored in.\n",
    "\n",
    "    Returns:\n",
    "    - str: The path to the image.\n",
    "    \"\"\"\n",
    "    return f\"{directory}{str(image_id)}.jpg\"\n",
    "\n",
    "def load_image(image_id: int, directory: str) -> np.ndarray:\n",
    "    \"\"\"\n",
    "    Load an image given its ID and the directory it is stored in.\n",
    "\n",
    "    Args:\n",
    "    - image_id (int): The ID of the image.\n",
    "    - directory (str): The directory the image is stored in.\n",
    "\n",
    "    Returns:\n",
    "    - np.ndarray: The image as a NumPy array.\n",
    "    \"\"\"\n",
    "    image_path = get_image_path(image_id, directory)\n",
    "    image = cv2.imread(image_path)\n",
    "\n",
    "    return image\n",
    "\n",
    "def get_cropped_image(image_id: int, df: pd.DataFrame, directory: str) -> np.ndarray:\n",
    "    \"\"\"\n",
    "    Crop an image given its id and the coordinates of the bounding box.\n",
    "\n",
    "    Args:\n",
    "    - image_path (str): The path to the image file.\n",
    "    - x (int): The x coordinate of the top-left corner of the bounding box.\n",
    "    - y (int): The y coordinate of the top-left corner of the bounding box.\n",
    "    - w (int): The width of the bounding box.\n",
    "    - h (int): The height of the bounding box.\n",
    "\n",
    "    Returns:\n",
    "    - np.ndarray: The cropped image as a NumPy array.\n",
    "    \"\"\"\n",
    "    image = load_image(image_id, directory)\n",
    "    x, y, w, h = df.loc[image_id, ['x', 'y', 'w', 'h']]\n",
    "\n",
    "    return image[y:y+h, x:x+w]"
   ]
  },
  {
   "cell_type": "code",
   "execution_count": null,
   "metadata": {},
   "outputs": [],
   "source": [
    "# Define the directories for raw and cropped images\n",
    "IMAGE_DATA_DIRECTORIES = {\n",
    "    'raw': {\n",
    "        'train': 'data/raw/train_images/',\n",
    "        'test': 'data/raw/test_images/',\n",
    "    },\n",
    "    'cropped': {\n",
    "        'train': 'data/cropped/train_images/',\n",
    "        'test': 'data/cropped/test_images/',\n",
    "    },\n",
    "}\n",
    "\n",
    "for directory in IMAGE_DATA_DIRECTORIES['raw'].values():\n",
    "    safe_create_directory(directory)\n",
    "\n",
    "for directory in IMAGE_DATA_DIRECTORIES['cropped'].values():\n",
    "    safe_create_directory(directory)"
   ]
  },
  {
   "cell_type": "code",
   "execution_count": null,
   "metadata": {},
   "outputs": [],
   "source": [
    "train_df = load_train_df()\n",
    "test_df = load_test_df()\n",
    "\n",
    "for i in range(8):\n",
    "    # temporarily use the iterator as the image_id\n",
    "    image_id = i\n",
    "    # image_id = train_df['image_id'][i]\n",
    "    image = get_cropped_image(image_id, train_df, IMAGE_DATA_DIRECTORIES['raw']['train'])\n",
    "    # Store the image in the cropped directory\n",
    "    cv2.imwrite(get_image_path(image_id, IMAGE_DATA_DIRECTORIES['cropped']['train']), image)"
   ]
  }
 ],
 "metadata": {
  "kernelspec": {
   "display_name": "Python 3 (ipykernel)",
   "language": "python",
   "name": "python3"
  },
  "orig_nbformat": 4
 },
 "nbformat": 4,
 "nbformat_minor": 2
}

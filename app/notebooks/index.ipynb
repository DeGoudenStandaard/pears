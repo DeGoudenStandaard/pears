{
 "cells": [
  {
   "attachments": {},
   "cell_type": "markdown",
   "metadata": {},
   "source": [
    "### Install dependencies"
   ]
  },
  {
   "cell_type": "code",
   "execution_count": null,
   "metadata": {},
   "outputs": [],
   "source": [
    "import os\n",
    "import cv2\n",
    "import numpy as np\n",
    "import pandas as pd\n",
    "import tensorflow as tf\n",
    "import matplotlib.pyplot as plt\n",
    "from IPython.display import clear_output\n",
    "from tensorflow.keras import Sequential\n",
    "from tensorflow.keras.layers import Dense, Flatten, Conv2D, MaxPooling2D, Dropout, BatchNormalization"
   ]
  },
  {
   "attachments": {},
   "cell_type": "markdown",
   "metadata": {},
   "source": [
    "### GPU Testing"
   ]
  },
  {
   "cell_type": "code",
   "execution_count": null,
   "metadata": {},
   "outputs": [],
   "source": [
    "# Check if GPU is available\n",
    "is_gpu_available = tf.test.is_gpu_available()\n",
    "\n",
    "# Clear the cell output\n",
    "clear_output()\n",
    "\n",
    "# Print GPU availability\n",
    "print(\"GPU is available\" if is_gpu_available else \"GPU is not available\")"
   ]
  },
  {
   "attachments": {},
   "cell_type": "markdown",
   "metadata": {},
   "source": [
    "### Load data"
   ]
  },
  {
   "attachments": {},
   "cell_type": "markdown",
   "metadata": {},
   "source": [
    "We rename the `img` column to `image_id` for clarity. The `rot` column was renamed to `is_rotten` for the same reason."
   ]
  },
  {
   "cell_type": "code",
   "execution_count": null,
   "metadata": {},
   "outputs": [],
   "source": [
    "def load_train_df() -> None:\n",
    "    return pd.read_csv(\"data/train.csv\", dtype={\n",
    "        \"img\": int, # Image ID\n",
    "        \"x\": int, # X coordinate of the top-left corner of the bounding box\n",
    "        \"y\": int, # Y coordinate of the top-left corner of the bounding box\n",
    "        \"w\": int, # Width of the bounding box\n",
    "        \"h\": int, # Height of the bounding box\n",
    "        \"rot\": int, # Whether the image shows a rotten pear (1) or not (0)\n",
    "    }, index_col=0).rename(columns={\n",
    "        \"img\": \"image_id\",\n",
    "        \"w\": \"x2\",\n",
    "        \"h\": \"y2\",\n",
    "        \"rot\": \"is_rotten\",\n",
    "    })"
   ]
  },
  {
   "cell_type": "code",
   "execution_count": null,
   "metadata": {},
   "outputs": [],
   "source": [
    "def load_test_df() -> None:\n",
    "    return pd.read_csv(\"data/test.csv\", dtype={\n",
    "        \"img\": int, # Image ID\n",
    "        \"x\": int, # X coordinate of the top-left corner of the bounding box\n",
    "        \"y\": int, # Y coordinate of the top-left corner of the bounding box\n",
    "        \"w\": int, # Width of the bounding box\n",
    "        \"h\": int, # Height of the bounding box\n",
    "    }, index_col=0).rename(columns={\n",
    "        \"img\": \"image_id\",\n",
    "        \"w\": \"x2\",\n",
    "        \"h\": \"y2\",\n",
    "    })"
   ]
  },
  {
   "cell_type": "code",
   "execution_count": null,
   "metadata": {},
   "outputs": [],
   "source": [
    "def safe_create_directory(directory: str) -> None:\n",
    "    try:\n",
    "        os.makedirs(directory, exist_ok=True)\n",
    "    except OSError as e:\n",
    "        print(f\"Error creating directory {directory}: {e}\")"
   ]
  },
  {
   "cell_type": "code",
   "execution_count": null,
   "metadata": {},
   "outputs": [],
   "source": [
    "def get_image_path(image_id: int, directory: str) -> str:\n",
    "    return f\"{directory}{image_id:08d}.png\""
   ]
  },
  {
   "cell_type": "code",
   "execution_count": null,
   "metadata": {},
   "outputs": [],
   "source": [
    "def load_image(image_id: int, directory: str) -> np.ndarray:\n",
    "    image_path = get_image_path(image_id, directory)\n",
    "    image = cv2.imread(image_path)\n",
    "\n",
    "    return image"
   ]
  },
  {
   "cell_type": "code",
   "execution_count": null,
   "metadata": {},
   "outputs": [],
   "source": [
    "def crop_image(image: np.ndarray, row: pd.Series) -> np.ndarray:\n",
    "    left_x, top_y, right_x, bottom_y = row[[\"x\", \"y\", \"x2\", \"y2\"]]\n",
    "\n",
    "    cropped_image = image[top_y:bottom_y, left_x:right_x]\n",
    "\n",
    "    return cropped_image"
   ]
  },
  {
   "cell_type": "code",
   "execution_count": null,
   "metadata": {},
   "outputs": [],
   "source": [
    "def determine_training_subdirectory(row: pd.Series) -> str:\n",
    "    if \"is_rotten\" not in row:\n",
    "        return \"\"\n",
    "    \n",
    "    return \"rotten/\" if row[\"is_rotten\"] == 1 else \"not_rotten/\""
   ]
  },
  {
   "cell_type": "code",
   "execution_count": null,
   "metadata": {},
   "outputs": [],
   "source": [
    "def get_cropped_image_path(row: pd.Series, directory: str) -> str:\n",
    "    subdirectory = determine_training_subdirectory(row)\n",
    "    return f\"{directory}{subdirectory}{row.name}.png\""
   ]
  },
  {
   "cell_type": "code",
   "execution_count": null,
   "metadata": {},
   "outputs": [],
   "source": [
    "def is_dir_empty(dir: str) -> bool:\n",
    "    safe_create_directory(dir)\n",
    "\n",
    "    return len(os.listdir(dir)) == 0"
   ]
  },
  {
   "cell_type": "code",
   "execution_count": null,
   "metadata": {},
   "outputs": [],
   "source": [
    "def crop_all_images(df: pd.DataFrame, raw_directory: str, cropped_directory: str) -> None:   \n",
    "    if not is_dir_empty(cropped_directory):\n",
    "        print(f\"The {cropped_directory} directory is not empty. Skipping.\")\n",
    "        return\n",
    "\n",
    "    # Load all images one by one\n",
    "    for image_id in df[\"image_id\"].unique():\n",
    "        image = load_image(image_id, raw_directory)\n",
    "\n",
    "        # Find all the rows with the current image ID\n",
    "        rows = df[df[\"image_id\"] == image_id]\n",
    "\n",
    "        # Crop the image for each row\n",
    "        for _, row in rows.iterrows():\n",
    "            cropped_image = crop_image(image, row)\n",
    "            cropped_image_path = get_cropped_image_path(row, cropped_directory)\n",
    "            # Save the cropped image\n",
    "            cv2.imwrite(cropped_image_path, cropped_image)"
   ]
  },
  {
   "cell_type": "code",
   "execution_count": null,
   "metadata": {},
   "outputs": [],
   "source": [
    "# Define the directories for raw and cropped images\n",
    "IMAGE_DATA_DIRECTORIES = {\n",
    "    \"raw\": {\n",
    "        \"train\": \"data/raw/all_images/\",\n",
    "        \"test\": \"data/raw/all_images/\",\n",
    "    },\n",
    "    \"cropped\": {\n",
    "        \"train\": \"data/cropped/train_images/\",\n",
    "        \"test\": \"data/cropped/test_images/\",\n",
    "    },\n",
    "}\n",
    "\n",
    "for directory in IMAGE_DATA_DIRECTORIES[\"raw\"].values():\n",
    "    safe_create_directory(directory)\n",
    "\n",
    "for directory in IMAGE_DATA_DIRECTORIES[\"cropped\"].values():\n",
    "    safe_create_directory(directory)"
   ]
  },
  {
   "cell_type": "code",
   "execution_count": null,
   "metadata": {},
   "outputs": [],
   "source": [
    "train_df = load_train_df()\n",
    "test_df = load_test_df()"
   ]
  },
  {
   "cell_type": "code",
   "execution_count": null,
   "metadata": {},
   "outputs": [],
   "source": [
    "crop_all_images(train_df, IMAGE_DATA_DIRECTORIES[\"raw\"][\"train\"], IMAGE_DATA_DIRECTORIES[\"cropped\"][\"train\"])\n",
    "crop_all_images(test_df, IMAGE_DATA_DIRECTORIES[\"raw\"][\"test\"], IMAGE_DATA_DIRECTORIES[\"cropped\"][\"test\"])"
   ]
  },
  {
   "attachments": {},
   "cell_type": "markdown",
   "metadata": {},
   "source": [
    "# TODO\n",
    "- All images have different sizes, what do we do with this?\n",
    "- Do we add a margin around each pear?"
   ]
  },
  {
   "cell_type": "code",
   "execution_count": null,
   "metadata": {},
   "outputs": [],
   "source": [
    "# image_width = 500\n",
    "# image_height = 500\n",
    "# batch_size = 32\n",
    "\n",
    "# train_datagen = tf.keras.preprocessing.image.ImageDataGenerator(\n",
    "#     rescale=1./255,\n",
    "#     rotation_range=15,\n",
    "#     width_shift_range=0.1,\n",
    "#     height_shift_range=0.1,\n",
    "#     horizontal_flip=True,\n",
    "#     vertical_flip=True,\n",
    "#     validation_split=0.2,\n",
    "# )\n",
    "\n",
    "# train_generator = train_datagen.flow_from_directory(\n",
    "#     directory=\"data/cropped/train_images/\",\n",
    "#     target_size=(image_width, image_height),\n",
    "#     batch_size=batch_size,\n",
    "#     class_mode=\"binary\",\n",
    "#     subset=\"training\",\n",
    "# )\n",
    "\n",
    "# validation_generator = train_datagen.flow_from_directory(\n",
    "#     directory=\"data/cropped/train_images/\",\n",
    "#     target_size=(image_width, image_height),\n",
    "#     batch_size=batch_size,\n",
    "#     class_mode=\"binary\",\n",
    "#     subset=\"validation\",\n",
    "# )"
   ]
  }
 ],
 "metadata": {
  "kernelspec": {
   "display_name": "Python 3 (ipykernel)",
   "language": "python",
   "name": "python3"
  },
  "language_info": {
   "codemirror_mode": {
    "name": "ipython",
    "version": 3
   },
   "file_extension": ".py",
   "mimetype": "text/x-python",
   "name": "python",
   "nbconvert_exporter": "python",
   "pygments_lexer": "ipython3",
   "version": "3.8.10"
  },
  "orig_nbformat": 4
 },
 "nbformat": 4,
 "nbformat_minor": 2
}

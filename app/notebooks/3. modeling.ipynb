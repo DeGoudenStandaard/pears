{
 "cells": [
  {
   "cell_type": "code",
   "execution_count": null,
   "metadata": {},
   "outputs": [],
   "source": [
    "# %pip install --upgrade pip --quiet && pip install -r ../../requirements.txt --quiet"
   ]
  },
  {
   "cell_type": "code",
   "execution_count": null,
   "metadata": {},
   "outputs": [],
   "source": [
    "# image_width = 500\n",
    "# image_height = 500\n",
    "# batch_size = 32\n",
    "\n",
    "# train_datagen = tf.keras.preprocessing.image.ImageDataGenerator(\n",
    "#     rescale=1./255,\n",
    "#     rotation_range=15,\n",
    "#     width_shift_range=0.1,\n",
    "#     height_shift_range=0.1,\n",
    "#     horizontal_flip=True,\n",
    "#     vertical_flip=True,\n",
    "#     validation_split=0.2,\n",
    "# )\n",
    "\n",
    "# train_generator = train_datagen.flow_from_directory(\n",
    "#     directory=\"data/cropped/train_images/\",\n",
    "#     target_size=(image_width, image_height),\n",
    "#     batch_size=batch_size,\n",
    "#     class_mode=\"binary\",\n",
    "#     subset=\"training\",\n",
    "# )\n",
    "\n",
    "# validation_generator = train_datagen.flow_from_directory(\n",
    "#     directory=\"data/cropped/train_images/\",\n",
    "#     target_size=(image_width, image_height),\n",
    "#     batch_size=batch_size,\n",
    "#     class_mode=\"binary\",\n",
    "#     subset=\"validation\",\n",
    "# )"
   ]
  }
 ],
 "metadata": {
  "language_info": {
   "name": "python"
  },
  "orig_nbformat": 4
 },
 "nbformat": 4,
 "nbformat_minor": 2
}
